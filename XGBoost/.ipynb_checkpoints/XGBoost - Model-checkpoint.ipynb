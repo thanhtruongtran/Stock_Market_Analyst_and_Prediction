{
 "cells": [
  {
   "cell_type": "markdown",
   "id": "52c5ca0e",
   "metadata": {},
   "source": [
    "**Outline:**\n",
    "\n",
    "1. [Libraries and settings](#1-bullet)\n",
    "2. [Train and Evaluate Model](#2-bullet)\n",
    "3. [Predictions](#3-bullet)"
   ]
  },
  {
   "cell_type": "markdown",
   "id": "bee10d05",
   "metadata": {},
   "source": [
    "## 1. [Libraries and settings](#1-bullet)"
   ]
  },
  {
   "cell_type": "code",
   "execution_count": 1,
   "id": "3c60ad13",
   "metadata": {},
   "outputs": [
    {
     "ename": "ModuleNotFoundError",
     "evalue": "No module named 'DataPreprocessing'",
     "output_type": "error",
     "traceback": [
      "\u001b[1;31m---------------------------------------------------------------------------\u001b[0m",
      "\u001b[1;31mModuleNotFoundError\u001b[0m                       Traceback (most recent call last)",
      "Cell \u001b[1;32mIn[1], line 1\u001b[0m\n\u001b[1;32m----> 1\u001b[0m \u001b[38;5;28;01mfrom\u001b[39;00m \u001b[38;5;21;01mDataPreprocessing\u001b[39;00m \u001b[38;5;28;01mimport\u001b[39;00m \u001b[38;5;241m*\u001b[39m\n",
      "\u001b[1;31mModuleNotFoundError\u001b[0m: No module named 'DataPreprocessing'"
     ]
    }
   ],
   "source": [
    "from DataPreprocessing import *"
   ]
  },
  {
   "cell_type": "markdown",
   "id": "674678c0",
   "metadata": {},
   "source": [
    "## 2. [Train and Evaluate Model](#2-bullet)"
   ]
  },
  {
   "cell_type": "markdown",
   "id": "06f9f1c3",
   "metadata": {},
   "source": [
    "### Create dataset"
   ]
  },
  {
   "cell_type": "code",
   "execution_count": null,
   "id": "9e52c872",
   "metadata": {},
   "outputs": [],
   "source": [
    "time_step = 30"
   ]
  },
  {
   "cell_type": "code",
   "execution_count": null,
   "id": "c8ada943",
   "metadata": {},
   "outputs": [],
   "source": [
    "def create_dataset(dataset, time_step=1):\n",
    "    dataX, dataY = [], []\n",
    "    for i in range(len(dataset)-time_step-1):\n",
    "        a = dataset[i:(i+time_step), 0]  \n",
    "        dataX.append(a)\n",
    "        dataY.append(dataset[i + time_step, 0])\n",
    "    return np.array(dataX), np.array(dataY)"
   ]
  },
  {
   "cell_type": "code",
   "execution_count": null,
   "id": "ddabb847",
   "metadata": {},
   "outputs": [],
   "source": [
    "x_for_train, y_for_train = create_dataset(scaled_data, time_step)\n",
    "\n",
    "x_for_train =x_for_train.reshape(x_for_train.shape[0],x_for_train.shape[1])\n",
    "y_for_train = y_for_train.reshape(y_for_train.shape[0],1)"
   ]
  },
  {
   "cell_type": "code",
   "execution_count": null,
   "id": "2ccdd641",
   "metadata": {},
   "outputs": [],
   "source": [
    "training_size=int(len(dataset)*0.8)\n",
    "test_size=len(dataset)-training_size\n",
    "train_data,test_data=scaled_data[0:training_size],scaled_data[training_size:len(dataset)]\n",
    "print(\"train_data: \", train_data.shape)\n",
    "print(\"test_data: \", test_data.shape)"
   ]
  },
  {
   "cell_type": "code",
   "execution_count": null,
   "id": "d678f9db",
   "metadata": {},
   "outputs": [],
   "source": [
    "x_train, y_train = create_dataset(train_data, time_step)\n",
    "x_test, y_test = create_dataset(test_data, time_step)\n",
    "\n",
    "x_train =x_train.reshape(x_train.shape[0],x_train.shape[1])\n",
    "x_test = x_test.reshape(x_test.shape[0],x_test.shape[1])\n",
    "y_train = y_train.reshape(y_train.shape[0],1)\n",
    "y_test = y_test.reshape(y_test.shape[0],1)\n",
    "\n",
    "\n",
    "print(\"x_train: \", x_train.shape)\n",
    "print(\"y_train: \", y_train.shape)\n",
    "print(\"x_test: \", x_test.shape)\n",
    "print(\"y_test\", y_test.shape)"
   ]
  },
  {
   "cell_type": "markdown",
   "id": "0ada9459",
   "metadata": {},
   "source": [
    "### Building model"
   ]
  },
  {
   "cell_type": "markdown",
   "id": "9acd3f83",
   "metadata": {},
   "source": [
    "Using best hyperparameters after tuning to retrain model"
   ]
  },
  {
   "cell_type": "code",
   "execution_count": null,
   "id": "c16ec720",
   "metadata": {},
   "outputs": [],
   "source": [
    "# Create and train the SVR model\n",
    "eval_set = [(x_test, y_test)]\n",
    "XgB_model = XGBRegressor(learning_rate= 0.01, max_depth = 10, n_estimators = 500)\n",
    "XgB_model.fit(x_train, y_train)"
   ]
  },
  {
   "cell_type": "code",
   "execution_count": null,
   "id": "ca00f6f5",
   "metadata": {},
   "outputs": [],
   "source": [
    "predictions = XgB_model.predict(x_test)\n",
    "predictions = predictions.reshape(-1,1)\n",
    "\n",
    "predictions_train = XgB_model.predict(x_train)\n",
    "predictions_train = predictions_train.reshape(-1,1)"
   ]
  },
  {
   "cell_type": "code",
   "execution_count": null,
   "id": "d36d7a1f",
   "metadata": {},
   "outputs": [],
   "source": [
    "predictions = scaler.inverse_transform(predictions)\n",
    "predictions_train = scaler.inverse_transform(predictions_train)\n",
    "y_test = scaler.inverse_transform(y_test)\n",
    "y_train = scaler.inverse_transform(y_train)"
   ]
  },
  {
   "cell_type": "code",
   "execution_count": null,
   "id": "8edcd5b9",
   "metadata": {},
   "outputs": [],
   "source": [
    "column_names_pred = ['Close_predict']\n",
    "df_predictions = pd.DataFrame(predictions, columns=column_names_pred)\n",
    "\n",
    "column_names_test = ['Close_test']\n",
    "df_test = pd.DataFrame(y_test, columns=column_names_test)\n",
    "\n",
    "concatenated = np.concatenate([df_predictions, df_test], axis=1)\n",
    "column_names_concat = ['Close_predict', 'Close_test']\n",
    "df_concatenated = pd.DataFrame(concatenated, columns = column_names_concat)"
   ]
  },
  {
   "cell_type": "code",
   "execution_count": null,
   "id": "2d96a559",
   "metadata": {
    "scrolled": false
   },
   "outputs": [],
   "source": [
    "plt.figure(figsize=(16,6))\n",
    "plt.title('Close Price History')\n",
    "plt.plot(df_predictions['Close_predict'], color='red', label='Predicted Close Price')\n",
    "plt.plot(df_test['Close_test'], color='blue', label='Actual Close Price')\n",
    "plt.xlabel('Date', fontsize=18)\n",
    "plt.ylabel('Close Price USD ($)', fontsize=18)\n",
    "plt.show()"
   ]
  },
  {
   "cell_type": "markdown",
   "id": "28013729",
   "metadata": {},
   "source": [
    "### Evaluate model"
   ]
  },
  {
   "cell_type": "code",
   "execution_count": null,
   "id": "d3487951",
   "metadata": {
    "scrolled": true
   },
   "outputs": [],
   "source": [
    "\n",
    "mae_train = mean_absolute_error(y_train, predictions_train)\n",
    "rmse_train = np.sqrt(mean_squared_error(y_train, predictions_train))\n",
    "r2_train = r2_score(y_train, predictions_train)\n",
    "\n",
    "print(\"Train Mean Absolute Error:\", mae_train)\n",
    "print(\"Train Mean Squared Error:\", rmse_train)\n",
    "print(\"Train R-squared:\", r2_train)"
   ]
  },
  {
   "cell_type": "code",
   "execution_count": null,
   "id": "6ca6a52c",
   "metadata": {
    "scrolled": true
   },
   "outputs": [],
   "source": [
    "mae_test = mean_absolute_error(y_test, predictions)\n",
    "rmse_test = np.sqrt(mean_squared_error(y_test, predictions))\n",
    "r2_test = r2_score(y_test, predictions)\n",
    "\n",
    "print(\"Test Mean Absolute Error:\", mae_test)\n",
    "print(\"Test Root Mean Squared Error:\", rmse_test)\n",
    "print(\"Test R-squared:\", r2_test)"
   ]
  },
  {
   "cell_type": "markdown",
   "id": "fb078682",
   "metadata": {},
   "source": [
    "## 4. [Predictions](#4-bullet)"
   ]
  },
  {
   "cell_type": "code",
   "execution_count": null,
   "id": "c7a64b16",
   "metadata": {},
   "outputs": [],
   "source": [
    "last_30_days = x_test[-1:, :]  \n",
    "next_days = []  \n",
    "\n",
    "for _ in range(101):\n",
    "    input_data = np.reshape(last_30_days, (last_30_days.shape[0], last_30_days.shape[1]))\n",
    "\n",
    "    predicted_price = XgB_model.predict(input_data)\n",
    "    next_day = predicted_price\n",
    "    next_days.append(next_day)\n",
    "\n",
    "    last_30_days = np.append(last_30_days[:, 1:], np.expand_dims(next_day, axis=0), axis=1)\n",
    "    \n",
    "pop_price = next_days.pop(0)\n",
    "print(\"Predicted prices for the next days:\")\n",
    "    \n",
    "for i, price in enumerate(next_days):\n",
    "    price = scaler.inverse_transform(price.reshape(-1,1))\n",
    "    print(f\"Day {i+1}: {price}\")\n",
    "    \n",
    "next_days = scaler.inverse_transform(np.array(next_days).reshape(-1,1))"
   ]
  },
  {
   "cell_type": "code",
   "execution_count": null,
   "id": "6af7ee03",
   "metadata": {},
   "outputs": [],
   "source": [
    "y_test = np.concatenate([y_test, next_days], axis=0)\n"
   ]
  },
  {
   "cell_type": "code",
   "execution_count": null,
   "id": "3cc940ae",
   "metadata": {
    "scrolled": true
   },
   "outputs": [],
   "source": [
    "plt.figure(figsize=(16, 6))\n",
    "plt.title('Close Price History')\n",
    "plt.plot(y_test[:-100], color='red', label='Actual Close Price')\n",
    "plt.plot(range(len(y_test)-100, len(y_test)), y_test[-100:], color='blue', label='Predicted Close Price in next days')\n",
    "plt.xlabel('Date', fontsize=18)\n",
    "plt.ylabel('Close Price USD ($)', fontsize=18)\n",
    "plt.legend()\n",
    "plt.show()\n"
   ]
  },
  {
   "cell_type": "code",
   "execution_count": null,
   "id": "fa5bccef",
   "metadata": {},
   "outputs": [],
   "source": []
  }
 ],
 "metadata": {
  "kernelspec": {
   "display_name": "Python 3 (ipykernel)",
   "language": "python",
   "name": "python3"
  },
  "language_info": {
   "codemirror_mode": {
    "name": "ipython",
    "version": 3
   },
   "file_extension": ".py",
   "mimetype": "text/x-python",
   "name": "python",
   "nbconvert_exporter": "python",
   "pygments_lexer": "ipython3",
   "version": "3.10.9"
  }
 },
 "nbformat": 4,
 "nbformat_minor": 5
}
